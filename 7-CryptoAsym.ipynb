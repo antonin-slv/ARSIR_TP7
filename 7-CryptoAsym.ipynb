{
 "cells": [
  {
   "cell_type": "markdown",
   "metadata": {
    "id": "JbHHEq1va9tk"
   },
   "source": [
    "# 1. Boîte à outils"
   ]
  },
  {
   "cell_type": "code",
   "execution_count": 1,
   "metadata": {
    "id": "ZJuy7mZga9tw"
   },
   "outputs": [],
   "source": [
    "import Toolbox as tb"
   ]
  },
  {
   "cell_type": "markdown",
   "metadata": {
    "id": "a6B_KtUCa9t2"
   },
   "source": [
    "# 2. Diffie-Hellman\n",
    "\n",
    "Implémenter une communication entre Arielle et Bertrand sous TCP (on\n",
    "pourra considérer que l'un des deux est un serveur et l'autre un\n",
    "client) permettant d'appliquer le protocole de Diffie-Hellman. Faites\n",
    "afficher à chaque participant les étapes du protocole sur sa sortie\n",
    "standard."
   ]
  },
  {
   "cell_type": "code",
   "execution_count": null,
   "metadata": {
    "colab": {
     "base_uri": "https://localhost:8080/"
    },
    "id": "uYcGxMddiRid",
    "outputId": "dcf698b4-80bd-4cfa-be0e-45c4b5ff8b7f"
   },
   "outputs": [
    {
     "name": "stdout",
     "output_type": "stream",
     "text": [
      "Bertrand : initialized on port 1024\n",
      "Bertrand : Listening\n",
      "Arielle 52066 : connectedBertrand : Got new connection from 127.0.0.1 at 52066\n",
      "\n",
      "Arielle : Sending 2037 to 1024\n",
      "Bertrand : Received 2037 from 52066\n",
      "Bertrand : Sending 2157 to 52066\n",
      "Arielle : Received 2157 from 1024\n",
      "Arielle : calculated key : 6148\n",
      "Bertrand : calculated key : 6148\n",
      "Arielle : Disconnected\n",
      "Bertrand : Closing the connection from 127.0.0.1 at 52066\n",
      "Bertrand : Disconnected\n"
     ]
    }
   ],
   "source": [
    "import User as usr\n",
    "p, g = 8779, 4157\n",
    "b = 3242\n",
    "a = 2682\n",
    "\n",
    "port = 1024\n",
    "usr.bertrand(port,g,p,b)\n",
    "usr.arielle(port,g,p,a)"
   ]
  },
  {
   "cell_type": "markdown",
   "metadata": {
    "id": "EbcphoK4a9t6"
   },
   "source": [
    "# 3. L'homme du milieu\n",
    "\n",
    "Arielle et Bertrand veulent communiquer en utilisant RSA. Implémenter\n",
    "le serveur de Laurent pour qu'il se fasse passer pour Bertrand auprès\n",
    "d'Arielle (et inversement). Laurent affichera sur la sortie standard\n",
    "les messages échangés par Arielle et Bertrand (sous forme déchiffrée)."
   ]
  },
  {
   "cell_type": "code",
   "execution_count": null,
   "metadata": {
    "id": "DmMm70vsa9t7"
   },
   "outputs": [],
   "source": [
    "import threading\n",
    "import RSA\n",
    "import socket as sckt\n",
    "import Toolbox\n",
    "\n",
    "def arielle(port):\n",
    "  def arielle_behavior(port):\n",
    "    # connexion à Laurent\n",
    "    socket = sckt.socket(sckt.AF_INET, sckt.SOCK_STREAM)\n",
    "    socket.bind((\"127.0.0.1\", port))\n",
    "    socket.listen(True)\n",
    "    print(\"Arielle : initialized on port {}\".format(port))\n",
    "    print(\"Arielle : Listening\")\n",
    "    conn, addr = socket.accept()\n",
    "    print('Arielle : Got new connection from {} at {}'.format(addr[0], addr[1]))\n",
    "    \n",
    "    # génération des clés + échange des clés publiques\n",
    "\n",
    "    (pub1_key, pub2_key), (_,priv_key) = RSA.RSA_gen_keys()\n",
    "    pub_key1 = 0\n",
    "\n",
    "    print(\"Arielle : Sending {} to {}\".format(pub1_key, addr[1]))\n",
    "    conn.send(str(pub1_key).encode())\n",
    "    print(\"Arielle : Sending {} to {}\".format(pub2_key, addr[1]))\n",
    "    conn.send(str(pub2_key).encode())\n",
    "\n",
    "    pub1_key1 = int(conn.recv(port).decode())\n",
    "    print(\"Arielle : Received {} from {}\".format(pub1_key1, addr[1]))\n",
    "    pub2_key1 = int(conn.recv(port).decode())\n",
    "    print(\"Arielle : Received {} from {}\".format(pub2_key1, addr[1]))\n",
    "    # communication\n",
    "\n",
    "    mess = int(conn.recv(port).decode())\n",
    "    print(\"Arielle : Received {} from {}\".format(mess, addr[1]))\n",
    "    mess = RSA.RSA_decode(priv_key,pub1_key,mess)\n",
    "    print(\"Arielle Received : \" + RSA.int_to_text(mess))\n",
    "\n",
    "    # Fin\n",
    "    socket.listen(False)\n",
    "    socket.close()\n",
    "    print(\"Arielle : Disconnected\")\n",
    "\n",
    "\n",
    "    # exemple\n",
    "    # # Arielle attend qu'on lui envoie\n",
    "    # mess = int(conn.recv(port).decode())\n",
    "    # print(\"Arielle : Received {} from {}\".format(mess, addr[1]))\n",
    "    \n",
    "    # # Arielle recoit\n",
    "    # mess = \"\"\n",
    "    # print(\"Arielle : Sending {} to {}\".format(mess, addr[1]))\n",
    "    # conn.send(str(mess).encode())\n",
    "\n",
    "  x = threading.Thread(target=arielle_behavior, args=([port]))\n",
    "  x.start()\n",
    "    \n",
    "def bertrand(port):\n",
    "  def bertrand_behavior(port):\n",
    "    # connexion à Bertrand\n",
    "    socket = sckt.socket(sckt.AF_INET, sckt.SOCK_STREAM)\n",
    "    socket.bind((\"127.0.0.1\", port))\n",
    "    socket.listen(True)\n",
    "    print(\"Bertrand : initialized on port {}\".format(port))\n",
    "    print(\"Bertrand : Listening\")\n",
    "    conn, addr = socket.accept()\n",
    "    print('Bertrand : Got new connection from {} at {}'.format(addr[0], addr[1]))\n",
    "    \n",
    "    # génération des clés + échange des clés publiques\n",
    "\n",
    "    (pub1_key, pub2_key), (_,priv_key) = RSA.RSA_gen_keys()\n",
    "\n",
    "    pub1_key1 = 0\n",
    "    pub2_key1 = 0\n",
    "\n",
    "    print(\"Bertrand : Sending {} to {}\".format(pub1_key, addr[1]))\n",
    "    conn.send(str(pub1_key).encode())\n",
    "    print(\"Bertrand : Sending {} to {}\".format(pub2_key, addr[1]))\n",
    "    conn.send(str(pub2_key).encode())\n",
    "\n",
    "    pub1_key1 = int(conn.recv(port).decode())\n",
    "    print(\"Bertrand : Received {} from {}\".format(pub1_key1, addr[1]))\n",
    "    pub2_key1 = int(conn.recv(port).decode())\n",
    "    print(\"Bertrand : Received {} from {}\".format(pub2_key1, addr[1]))\n",
    "\n",
    "    # communication\n",
    "\n",
    "    mess = \"test\"\n",
    "    print(\"mess is : \", mess)\n",
    "    mess = RSA.RSA_encode(pub1_key1,pub2_key1,RSA.text_to_int(mess))\n",
    "\n",
    "    print(\"Bertrand : Sending {} to {}\".format(mess, addr[1]))\n",
    "    conn.send(str(mess).encode())\n",
    "\n",
    "    # Fin\n",
    "    socket.listen(False)\n",
    "    socket.close()\n",
    "    print(\"Bertrand : Disconnected\")\n",
    "\n",
    "\n",
    "    # exemple\n",
    "    # # Bertrand attend qu'on lui envoie\n",
    "    # mess = int(conn.recv(port).decode())\n",
    "    # print(\"Bertrand : Received {} from {}\".format(mess, addr[1]))\n",
    "    \n",
    "    # # Bertrand recoit\n",
    "    # mess = \"\"\n",
    "    # print(\"Bertrand : Sending {} to {}\".format(mess, addr[1]))\n",
    "    # conn.send(str(mess).encode())\n",
    "\n",
    "  x = threading.Thread(target=bertrand_behavior, args=([port]))\n",
    "  x.start()\n",
    "\n",
    "\n",
    "def laurent(port1,port2):\n",
    "  # connexion à Arielle et Bertrand\n",
    "  # Arielle\n",
    "  socket1 = sckt.socket(sckt.AF_INET, sckt.SOCK_STREAM)\n",
    "  try :\n",
    "    socket1.connect((\"127.0.0.1\", port1))\n",
    "    print(\"Laurent {} : connected\".format(socket1.getsockname()[1]))\n",
    "  except :\n",
    "    print(\"Laurent : Connection Error\")\n",
    "    raise Exception\n",
    "  \n",
    "  # Bertrand\n",
    "  socket2 = sckt.socket(sckt.AF_INET, sckt.SOCK_STREAM)\n",
    "  try :\n",
    "    socket2.connect((\"127.0.0.1\", port2))\n",
    "    print(\"Laurent {} : connected\".format(socket2.getsockname()[1]))\n",
    "  except :\n",
    "    print(\"Laurent : Connection Error\")\n",
    "    raise Exception\n",
    "\n",
    "  # génération des clés + échange des clés publiques\n",
    "  \n",
    "  (pub1_key,pub2_key), (_,priv_key) = RSA.RSA_gen_keys()\n",
    "\n",
    "  pub1_key1 = 0 \n",
    "  pub2_key1 = 0\n",
    "\n",
    "  pub1_key2 = 0 \n",
    "  pub2_key2 = 0\n",
    "\n",
    "  pub1_key1 = int(socket1.recv(port1).decode())\n",
    "  print(\"Laurent : Received {} from {}\".format(pub1_key1, port1))\n",
    "  pub2_key1 = int(socket1.recv(port1).decode())\n",
    "  print(\"Laurent : Received {} from {}\".format(pub2_key1, port1))\n",
    "\n",
    "  pub1_key2 = int(socket2.recv(port2).decode())\n",
    "  print(\"Laurent : Received {} from {}\".format(pub1_key2, port2))\n",
    "  pub2_key2 = int(socket2.recv(port2).decode())\n",
    "  print(\"Laurent : Received {} from {}\".format(pub2_key2, port2))\n",
    "\n",
    "  socket1.send(str(pub1_key).encode())\n",
    "  socket1.send(str(pub2_key).encode())\n",
    "\n",
    "  socket2.send(str(pub1_key).encode())\n",
    "  socket2.send(str(pub2_key).encode())\n",
    "\n",
    "  \n",
    "  # affichage des messages interceptés\n",
    "\n",
    "  mess = int(socket2.recv(port2).decode())\n",
    "  mess = RSA.int_to_text(RSA.RSA_decode(priv_key,pub1_key,mess))\n",
    "  print(\"mess is :\",mess,\"HAHAHA\")\n",
    "\n",
    "  mess = RSA.text_to_int(mess)\n",
    "  mess = RSA.RSA_encode(pub1_key1,pub1_key2,mess)\n",
    "  socket1.send(str(mess).encode())\n",
    "\n",
    "arielle(1024)\n",
    "laurent(1024,1025)\n",
    "bertrand(1025)\n",
    "\n",
    "\n",
    "  "
   ]
  },
  {
   "cell_type": "markdown",
   "metadata": {
    "id": "CLwe10Sba9t8"
   },
   "source": [
    "# 4. Malléabilité\n",
    "\n",
    "Implémenter Laurent pour que, lorsqu'il intercepte un message chiffré\n",
    "`c` correspondant au message `m` (qu'il ne peut retrouver), il\n",
    "transmette à l'autre participant un message `c'` correspondant au\n",
    "message `2m`."
   ]
  },
  {
   "cell_type": "code",
   "execution_count": 4,
   "metadata": {
    "id": "hb-jc_RMa9t9"
   },
   "outputs": [],
   "source": [
    "def arielle():\n",
    "    # connexion à Laurent\n",
    "    \n",
    "    # génération des clés + échange des clés publiques\n",
    "    \n",
    "    # envoi de messages chiffrés (+ affichage)\n",
    "    return\n",
    "    \n",
    "def bertrand():\n",
    "    # connexion à Laurent\n",
    "    \n",
    "    # génération des clés + échange des clés publiques\n",
    "    \n",
    "    # déchiffrement des messages reçus (+ affichage)\n",
    "    return\n",
    "    \n",
    "def laurent():\n",
    "    # connexion à Arielle et Bertrand\n",
    "    \n",
    "    # transmission de la clé d'Arielle à Bertrand (et inversement)\n",
    "   \n",
    "    # modification et transmission des messages interceptés\n",
    "    return"
   ]
  }
 ],
 "metadata": {
  "colab": {
   "collapsed_sections": [],
   "name": "TP7.ipynb",
   "provenance": []
  },
  "kernelspec": {
   "display_name": "Python 3",
   "language": "python",
   "name": "python3"
  },
  "language_info": {
   "codemirror_mode": {
    "name": "ipython",
    "version": 3
   },
   "file_extension": ".py",
   "mimetype": "text/x-python",
   "name": "python",
   "nbconvert_exporter": "python",
   "pygments_lexer": "ipython3",
   "version": "3.12.1"
  }
 },
 "nbformat": 4,
 "nbformat_minor": 0
}
