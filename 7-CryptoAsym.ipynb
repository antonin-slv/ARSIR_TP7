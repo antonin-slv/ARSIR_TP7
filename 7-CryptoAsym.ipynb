{
 "cells": [
  {
   "cell_type": "markdown",
   "metadata": {
    "id": "JbHHEq1va9tk"
   },
   "source": [
    "# 1. Boîte à outils"
   ]
  },
  {
   "cell_type": "code",
   "execution_count": null,
   "metadata": {
    "id": "ZJuy7mZga9tw"
   },
   "outputs": [],
   "source": [
    "import random \n",
    "import math\n",
    "\n",
    "def euclid(a,b):\n",
    "    # algorithme d'Euclide : calcule le pgcd et les coefficients de Bezout\n",
    "    return (pgcd,u,v)\n",
    "\n",
    "def inv(a,n):\n",
    "    # renvoie l'inverse de a modulo n, ou une erreur si a n'est pas inversible\n",
    "    return 0\n",
    "\n",
    "def sieve(n):\n",
    "    # calcule la liste des nombres premiers entre 1 et n\n",
    "    return []\n",
    "\n",
    "def is_prime(n):\n",
    "    # teste si n est premier\n",
    "    return True\n",
    "\n",
    "def exp(a,b,n):\n",
    "    # calcule a^b mod n (en log(n) multiplications)\n",
    "    \n",
    "def div(n):\n",
    "    # renvoie la liste des diviseurs premiers de n\n",
    "    if n == 1:\n",
    "        return []\n",
    "    for i in range(2,int(math.sqrt(n))+1):\n",
    "        if n % i == 0:\n",
    "            k = n//i\n",
    "            while (k % i == 0):\n",
    "                k = k//i\n",
    "            return [i]+div(k)\n",
    "    return [n]\n",
    "        \n",
    "def gen(n):\n",
    "    # calcule un générateur de (Z/nZ)*\n",
    "    # On tire un entier au hasard jusqu'à ce que ce soit un générateur\n",
    "    # Pour tester si g est générateur, on calcule g^((n-1)/d) mod n pour chaque diviseur premier d de n-1. \n",
    "    # Si on tombe sur 1, g n'est pas générateur\n",
    "    cond = True\n",
    "    divs = div(n-1)\n",
    "    while cond:\n",
    "        g = random.randint(1,n-1)\n",
    "        cond = any([exp(g,(n-1)/d,n) == 1 for d in divs])\n",
    "    return g"
   ]
  },
  {
   "cell_type": "markdown",
   "metadata": {
    "id": "a6B_KtUCa9t2"
   },
   "source": [
    "# 2. Diffie-Hellman\n",
    "\n",
    "Implémenter une communication entre Arielle et Bertrand sous TCP (on\n",
    "pourra considérer que l'un des deux est un serveur et l'autre un\n",
    "client) permettant d'appliquer le protocole de Diffie-Hellman. Faites\n",
    "afficher à chaque participant les étapes du protocole sur sa sortie\n",
    "standard."
   ]
  },
  {
   "cell_type": "code",
   "execution_count": null,
   "metadata": {
    "colab": {
     "base_uri": "https://localhost:8080/"
    },
    "id": "uYcGxMddiRid",
    "outputId": "dcf698b4-80bd-4cfa-be0e-45c4b5ff8b7f"
   },
   "outputs": [
    {
     "name": "stdout",
     "output_type": "stream",
     "text": [
      "Bertrand : initialized on port 1024Arielle 35984 : connected\n",
      "Bertrand : Listening\n",
      "Bertrand : Got new connection from 127.0.0.1 at 35984\n",
      "\n",
      "Arielle : Sending 0 to 1024\n",
      "Bertrand : Received 0 from 35984\n",
      "Bertrand : Sending 0 to 35984\n",
      "Bertrand : calculated key : 0Arielle : Received 0 from 1024\n",
      "Arielle : calculated key : 0\n",
      "Arielle : Disconnected\n",
      "\n",
      "Bertrand : Closing the connection from 127.0.0.1 at 35984\n",
      "Bertrand : Disconnected\n"
     ]
    }
   ],
   "source": [
    "import threading\n",
    "import socket as sckt\n",
    "\n",
    "p, g = 0, 0\n",
    "\n",
    "def bertrand(port):\n",
    "  def bertrand_behavior(port):\n",
    "    # Bertrand choisit `b` sa clé privée\n",
    "    b = 0\n",
    "\n",
    "    socket = sckt.socket(sckt.AF_INET, sckt.SOCK_STREAM)\n",
    "    socket.bind((\"127.0.0.1\", port))\n",
    "    \n",
    "    socket.listen(True)\n",
    "    \n",
    "    print(\"Bertrand : initialized on port {}\".format(port))\n",
    "    print(\"Bertrand : Listening\")\n",
    "    conn, addr = socket.accept()\n",
    "\n",
    "    print('Bertrand : Got new connection from {} at {}'.format(addr[0], addr[1]))\n",
    "    \n",
    "    # Bertrand attend qu'Arielle lui envoie\n",
    "    ga = int(conn.recv(port).decode())\n",
    "    print(\"Bertrand : Received {} from {}\".format(ga, addr[1]))\n",
    "    \n",
    "    # Bertrand envoie à Arielle\n",
    "    gb = 0\n",
    "    print(\"Bertrand : Sending {} to {}\".format(gb, addr[1]))\n",
    "    conn.send(str(gb).encode())\n",
    "\n",
    "    # Bertrand détermine la clé commune\n",
    "    gab = 0\n",
    "    print(\"Bertrand : calculated key : {}\".format(gab))\n",
    "    conn.close()\n",
    "    print(\"Bertrand : Closing the connection from {} at {}\".format(addr[0], addr[1]))\n",
    "        \n",
    "    socket.listen(False)\n",
    "    socket.close()\n",
    "    print(\"Bertrand : Disconnected\")\n",
    "    \n",
    "  x = threading.Thread(target=bertrand_behavior, args=([port]))\n",
    "  x.start()\n",
    "\n",
    "  \n",
    "\n",
    "def arielle(port):\n",
    "  # Arielle choisit `a` sa clé privée\n",
    "  a = 0\n",
    "\n",
    "  socket = sckt.socket(sckt.AF_INET, sckt.SOCK_STREAM)\n",
    "  try :\n",
    "    socket.connect((\"127.0.0.1\", port))\n",
    "    print(\"Arielle {} : connected\".format(socket.getsockname()[1]))\n",
    "  except :\n",
    "    print(\"Arielle : Connection Error\")\n",
    "    raise Exception\n",
    "\n",
    "  \n",
    "\n",
    "  # Arielle envoie à Bertrand\n",
    "  ga = 0\n",
    "  print(\"Arielle : Sending {} to {}\".format(ga, port))\n",
    "  socket.send(str(ga).encode())\n",
    "\n",
    "  # Arielle attend que Bertrand lui envoie\n",
    "  gb = int(socket.recv(port).decode())\n",
    "  print(\"Arielle : Received {} from {}\".format(gb, port))\n",
    "\n",
    "  # Arielle détermine la clé commune\n",
    "  gab = 0\n",
    "  print(\"Arielle : calculated key : {}\".format(gab))\n",
    "\n",
    "  # Déconnexion du client\n",
    "  socket.close()\n",
    "  print(\"Arielle : Disconnected\")\n",
    "  \n",
    "\n",
    "port = 1024\n",
    "bertrand(port)\n",
    "arielle(port)"
   ]
  },
  {
   "cell_type": "markdown",
   "metadata": {
    "id": "EbcphoK4a9t6"
   },
   "source": [
    "# 3. L'homme du milieu\n",
    "\n",
    "Arielle et Bertrand veulent communiquer en utilisant RSA. Implémenter\n",
    "le serveur de Laurent pour qu'il se fasse passer pour Bertrand auprès\n",
    "d'Arielle (et inversement). Laurent affichera sur la sortie standard\n",
    "les messages échangés par Arielle et Bertrand (sous forme déchiffrée)."
   ]
  },
  {
   "cell_type": "code",
   "execution_count": null,
   "metadata": {
    "id": "DmMm70vsa9t7"
   },
   "outputs": [],
   "source": [
    "def arielle():\n",
    "    # connexion à Laurent\n",
    "    \n",
    "    # génération des clés + échange des clés publiques\n",
    "    \n",
    "    # communication \n",
    "    \n",
    "def bertrand():\n",
    "    # connexion à Laurent\n",
    "    \n",
    "    # génération des clés + échange des clés publiques\n",
    "    \n",
    "    # communication \n",
    "    \n",
    "def laurent():\n",
    "    # connexion à Arielle et Bertrand\n",
    "    \n",
    "    # génération des clés + échange des clés publiques\n",
    "   \n",
    "    # affichage des messages interceptés"
   ]
  },
  {
   "cell_type": "markdown",
   "metadata": {
    "id": "CLwe10Sba9t8"
   },
   "source": [
    "# 4. Malléabilité\n",
    "\n",
    "Implémenter Laurent pour que, lorsqu'il intercepte un message chiffré\n",
    "`c` correspondant au message `m` (qu'il ne peut retrouver), il\n",
    "transmette à l'autre participant un message `c'` correspondant au\n",
    "message `2m`."
   ]
  },
  {
   "cell_type": "code",
   "execution_count": null,
   "metadata": {
    "id": "hb-jc_RMa9t9"
   },
   "outputs": [],
   "source": [
    "def arielle():\n",
    "    # connexion à Laurent\n",
    "    \n",
    "    # génération des clés + échange des clés publiques\n",
    "    \n",
    "    # envoi de messages chiffrés (+ affichage)\n",
    "    \n",
    "def bertrand():\n",
    "    # connexion à Laurent\n",
    "    \n",
    "    # génération des clés + échange des clés publiques\n",
    "    \n",
    "    # déchiffrement des messages reçus (+ affichage)\n",
    "    \n",
    "def laurent():\n",
    "    # connexion à Arielle et Bertrand\n",
    "    \n",
    "    # transmission de la clé d'Arielle à Bertrand (et inversement)\n",
    "   \n",
    "    # modification et transmission des messages interceptés"
   ]
  }
 ],
 "metadata": {
  "colab": {
   "collapsed_sections": [],
   "name": "TP7.ipynb",
   "provenance": []
  },
  "kernelspec": {
   "display_name": "Python 3",
   "language": "python",
   "name": "python3"
  },
  "language_info": {
   "codemirror_mode": {
    "name": "ipython",
    "version": 3
   },
   "file_extension": ".py",
   "mimetype": "text/x-python",
   "name": "python",
   "nbconvert_exporter": "python",
   "pygments_lexer": "ipython3",
   "version": "3.8.5"
  }
 },
 "nbformat": 4,
 "nbformat_minor": 0
}
