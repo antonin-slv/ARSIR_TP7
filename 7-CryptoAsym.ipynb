{
 "cells": [
  {
   "cell_type": "markdown",
   "metadata": {
    "id": "JbHHEq1va9tk"
   },
   "source": [
    "# 1. Boîte à outils"
   ]
  },
  {
   "cell_type": "code",
   "execution_count": null,
   "metadata": {
    "id": "ZJuy7mZga9tw"
   },
   "outputs": [],
   "source": [
    "import Toolbox as tb"
   ]
  },
  {
   "cell_type": "markdown",
   "metadata": {
    "id": "a6B_KtUCa9t2"
   },
   "source": [
    "# 2. Diffie-Hellman\n",
    "\n",
    "Implémenter une communication entre Arielle et Bertrand sous TCP (on\n",
    "pourra considérer que l'un des deux est un serveur et l'autre un\n",
    "client) permettant d'appliquer le protocole de Diffie-Hellman. Faites\n",
    "afficher à chaque participant les étapes du protocole sur sa sortie\n",
    "standard."
   ]
  },
  {
   "cell_type": "code",
   "execution_count": null,
   "metadata": {
    "colab": {
     "base_uri": "https://localhost:8080/"
    },
    "id": "uYcGxMddiRid",
    "outputId": "dcf698b4-80bd-4cfa-be0e-45c4b5ff8b7f"
   },
   "outputs": [
    {
     "name": "stdout",
     "output_type": "stream",
     "text": [
      "Bertrand : initialized on port 1024Arielle 35984 : connected\n",
      "Bertrand : Listening\n",
      "Bertrand : Got new connection from 127.0.0.1 at 35984\n",
      "\n",
      "Arielle : Sending 0 to 1024\n",
      "Bertrand : Received 0 from 35984\n",
      "Bertrand : Sending 0 to 35984\n",
      "Bertrand : calculated key : 0Arielle : Received 0 from 1024\n",
      "Arielle : calculated key : 0\n",
      "Arielle : Disconnected\n",
      "\n",
      "Bertrand : Closing the connection from 127.0.0.1 at 35984\n",
      "Bertrand : Disconnected\n"
     ]
    }
   ],
   "source": [
    "import User as usr\n",
    "p, g = 0, 0\n",
    "\n",
    "\n",
    "port = 1024\n",
    "usr.bertrand(port)\n",
    "usr.arielle(port)"
   ]
  },
  {
   "cell_type": "markdown",
   "metadata": {
    "id": "EbcphoK4a9t6"
   },
   "source": [
    "# 3. L'homme du milieu\n",
    "\n",
    "Arielle et Bertrand veulent communiquer en utilisant RSA. Implémenter\n",
    "le serveur de Laurent pour qu'il se fasse passer pour Bertrand auprès\n",
    "d'Arielle (et inversement). Laurent affichera sur la sortie standard\n",
    "les messages échangés par Arielle et Bertrand (sous forme déchiffrée)."
   ]
  },
  {
   "cell_type": "code",
   "execution_count": null,
   "metadata": {
    "id": "DmMm70vsa9t7"
   },
   "outputs": [],
   "source": [
    "def arielle():\n",
    "    # connexion à Laurent\n",
    "    \n",
    "    # génération des clés + échange des clés publiques\n",
    "    \n",
    "    # communication \n",
    "    return\n",
    "    \n",
    "def bertrand():\n",
    "    # connexion à Laurent\n",
    "    \n",
    "    # génération des clés + échange des clés publiques\n",
    "    \n",
    "    # communication \n",
    "    return\n",
    "\n",
    "def laurent():\n",
    "    # connexion à Arielle et Bertrand\n",
    "    \n",
    "    # génération des clés + échange des clés publiques\n",
    "   \n",
    "    # affichage des messages interceptés\n",
    "    return"
   ]
  },
  {
   "cell_type": "markdown",
   "metadata": {
    "id": "CLwe10Sba9t8"
   },
   "source": [
    "# 4. Malléabilité\n",
    "\n",
    "Implémenter Laurent pour que, lorsqu'il intercepte un message chiffré\n",
    "`c` correspondant au message `m` (qu'il ne peut retrouver), il\n",
    "transmette à l'autre participant un message `c'` correspondant au\n",
    "message `2m`."
   ]
  },
  {
   "cell_type": "code",
   "execution_count": null,
   "metadata": {
    "id": "hb-jc_RMa9t9"
   },
   "outputs": [],
   "source": [
    "def arielle():\n",
    "    # connexion à Laurent\n",
    "    \n",
    "    # génération des clés + échange des clés publiques\n",
    "    \n",
    "    # envoi de messages chiffrés (+ affichage)\n",
    "    return\n",
    "    \n",
    "def bertrand():\n",
    "    # connexion à Laurent\n",
    "    \n",
    "    # génération des clés + échange des clés publiques\n",
    "    \n",
    "    # déchiffrement des messages reçus (+ affichage)\n",
    "    return\n",
    "    \n",
    "def laurent():\n",
    "    # connexion à Arielle et Bertrand\n",
    "    \n",
    "    # transmission de la clé d'Arielle à Bertrand (et inversement)\n",
    "   \n",
    "    # modification et transmission des messages interceptés\n",
    "    return"
   ]
  }
 ],
 "metadata": {
  "colab": {
   "collapsed_sections": [],
   "name": "TP7.ipynb",
   "provenance": []
  },
  "kernelspec": {
   "display_name": "Python 3",
   "language": "python",
   "name": "python3"
  },
  "language_info": {
   "codemirror_mode": {
    "name": "ipython",
    "version": 3
   },
   "file_extension": ".py",
   "mimetype": "text/x-python",
   "name": "python",
   "nbconvert_exporter": "python",
   "pygments_lexer": "ipython3",
   "version": "3.13.2"
  }
 },
 "nbformat": 4,
 "nbformat_minor": 0
}
